{
 "cells": [
  {
   "cell_type": "markdown",
   "metadata": {},
   "source": [
    "Importing the necessary libraries"
   ]
  },
  {
   "cell_type": "code",
   "execution_count": 22,
   "metadata": {},
   "outputs": [],
   "source": [
    "import os\n",
    "from loaders import parse_document\n",
    "\n",
    "from pydantic import BaseModel\n",
    "from typing import Literal, Sequence, Union, Annotated, List, TypedDict\n",
    "from typing_extensions import TypedDict\n",
    "\n",
    "from langchain_openai import ChatOpenAI\n",
    "from langchain.schema import BaseMessage\n",
    "from langchain_core.messages import BaseMessage, AIMessage, HumanMessage\n",
    "from langchain_core.prompts import ChatPromptTemplate, MessagesPlaceholder\n",
    "\n",
    "from langgraph.graph import START,END,StateGraph,MessagesState\n",
    "from langgraph.graph.message import add_messages\n",
    "from langgraph.checkpoint.memory import MemorySaver"
   ]
  },
  {
   "cell_type": "markdown",
   "metadata": {},
   "source": [
    "OpenAI Model"
   ]
  },
  {
   "cell_type": "code",
   "execution_count": 5,
   "metadata": {},
   "outputs": [],
   "source": [
    "llm = ChatOpenAI(model=\"gpt-4o-mini\", streaming=True)"
   ]
  },
  {
   "cell_type": "markdown",
   "metadata": {},
   "source": [
    "Agent State - messages gets appended by each agent"
   ]
  },
  {
   "cell_type": "code",
   "execution_count": 9,
   "metadata": {},
   "outputs": [],
   "source": [
    "class AgentState(TypedDict):\n",
    "    messages: Annotated[Sequence[BaseMessage], add_messages]\n",
    "    sender: str\n",
    "    count: int\n",
    "    user_feedback: str"
   ]
  },
  {
   "cell_type": "code",
   "execution_count": 23,
   "metadata": {},
   "outputs": [],
   "source": [
    "#Reader Agent\n",
    "def reader_call(state:AgentState):\n",
    "    name=\"reader\"\n",
    "    reader_prompt = ChatPromptTemplate.from_messages([\n",
    "        (\"system\", \"\"\"You are an resume reading and preparing assistant. You will be given the contents of the resume that is parsed with a particular file reader.\\n\n",
    "         You are expected to prepare the resume data for processing further. The document should contain its originality and you should only beautify it\\n\n",
    "         Also you are not expected to provide any headers like 'Here is the resume' or any footers like 'This resume format maintains the originality of the content'. Instead just provide only the content.\\n\n",
    "         Remember that you are a part of a team. So you are expected to present file contents properly without any changes that affects the context.\"\"\"),\n",
    "        (\"human\", \"{input}\")\n",
    "        ])\n",
    "    \n",
    "    reader_chain = reader_prompt | llm\n",
    "\n",
    "    response = reader_chain.invoke({\"input\":state['messages']})\n",
    "    return {\"messages\": [response.content],\n",
    "            \"sender\": name,\n",
    "            \"count\": state.get(\"count\", 0)\n",
    "    }"
   ]
  },
  {
   "cell_type": "code",
   "execution_count": 24,
   "metadata": {},
   "outputs": [],
   "source": [
    "#Extractor Agent\n",
    "def extractor_call(state:AgentState):\n",
    "    name=\"extractor\"\n",
    "    extractor_prompt = ChatPromptTemplate.from_messages([\n",
    "        (\"system\", \"\"\"You are an resume parsing assistant. You will be given contents of the resume. You are expected to extract various information such as \\n1. Personal Information \\n2.Education \\n3.Work Experience \\n4.Skills.\\\n",
    "        Compile the validated entities into a predefined JSON format for downstream use. \\n\n",
    "        Remember that you are a part of a team. So you are expected to read the file contents properly and you expected to give the data properly.\\\n",
    "        If the extraction is not up to the mark, you will be reprompted to extract that particular values again.\"\"\"),\n",
    "        (\"human\", \"{input}\")\n",
    "        ])\n",
    "    \n",
    "    extractor_chain = extractor_prompt | llm\n",
    "\n",
    "    response = extractor_chain.invoke({\"input\":state['messages']})\n",
    "    \n",
    "    new_count = state.get(\"count\", 0) + 1\n",
    "    \n",
    "    return {\"messages\": [response.content], \"sender\": name, \"count\": new_count}"
   ]
  },
  {
   "cell_type": "code",
   "execution_count": 25,
   "metadata": {},
   "outputs": [],
   "source": [
    "#Validation Agent\n",
    "def validator_call(state:AgentState):\n",
    "    name=\"validator\"\n",
    "    validator_prompt = ChatPromptTemplate.from_messages([\n",
    "        (\"system\", \"\"\"You are a parsed resume validation assistant. You will be given the extracted entities from the resume.\\n\n",
    "                 Perform quality checks and ensure that the fields match with the actual content.\n",
    "                 So provide corrections that the other agent will then look at and then extract them correctly.\\n\n",
    "         If there are quality errors, then provide them as a set of bullet points.\\n\n",
    "                Remember that you are a part of a team. So you are expected to present the corrections properly without any unwanted changes.\\n\n",
    "                 If you don't notice any changes or mistakes then just return 'Yes'. Also you should not provide any headers or additional information like 'There is no mistake', 'The extraction is correct', etc. Just provide the final 'Yes'.\"\"\"),\n",
    "        (\"human\", \"{input}\"),\n",
    "        ])\n",
    "    \n",
    "    validator_chain = validator_prompt | llm\n",
    "\n",
    "\n",
    "    response = validator_chain.invoke({\"input\":state['messages']})\n",
    "    \n",
    "    return {\"messages\": [response.content],\n",
    "            \"sender\": name,\n",
    "            \"count\":state.get(\"count\",0)}"
   ]
  },
  {
   "cell_type": "code",
   "execution_count": 27,
   "metadata": {},
   "outputs": [],
   "source": [
    "#Routing conditions\n",
    "def router(state: AgentState):\n",
    "    if state.get(\"count\", 0) >= 3 or state[\"messages\"][-1].content == 'Yes':\n",
    "        return END\n",
    "    elif state[\"sender\"] == \"reader\":\n",
    "        return \"extractor\"\n",
    "    elif state[\"sender\"] == \"extractor\":\n",
    "        return \"validator\"\n",
    "    elif state[\"sender\"] == \"validator\":\n",
    "        return \"extractor\"\n",
    "    else:\n",
    "        return \"reader\""
   ]
  },
  {
   "cell_type": "code",
   "execution_count": 14,
   "metadata": {},
   "outputs": [
    {
     "data": {
      "text/plain": [
       "<langgraph.graph.state.StateGraph at 0x1a196bc1e50>"
      ]
     },
     "execution_count": 14,
     "metadata": {},
     "output_type": "execute_result"
    }
   ],
   "source": [
    "workflow = StateGraph(AgentState)\n",
    "\n",
    "workflow.add_node(\"reader\", reader_call)\n",
    "workflow.add_node(\"extractor\", extractor_call)\n",
    "workflow.add_node(\"validator\", validator_call)\n",
    "\n",
    "workflow.add_conditional_edges(\n",
    "    \"reader\",\n",
    "    router,\n",
    "    {\n",
    "        \"extractor\": \"extractor\",\n",
    "        END: END\n",
    "    }\n",
    ")\n",
    "\n",
    "workflow.add_conditional_edges(\n",
    "    \"extractor\",\n",
    "    router,\n",
    "    {\n",
    "        \"validator\": \"validator\",\n",
    "        END: END\n",
    "    }\n",
    ")\n",
    "\n",
    "workflow.add_conditional_edges(\n",
    "    \"validator\",\n",
    "    router,\n",
    "    {\n",
    "        \"extractor\": \"extractor\",\n",
    "        END: END\n",
    "    }\n",
    ")\n",
    "\n",
    "workflow.add_edge(START, \"reader\")"
   ]
  },
  {
   "cell_type": "code",
   "execution_count": 28,
   "metadata": {},
   "outputs": [],
   "source": [
    "memory = MemorySaver()\n",
    "app = workflow.compile(checkpointer=memory)"
   ]
  },
  {
   "cell_type": "code",
   "execution_count": 29,
   "metadata": {},
   "outputs": [],
   "source": [
    "#Resume data to check workflow\n",
    "data=\"\"\n",
    "documents=parse_document(\"Documents/yuans-resume-template.pdf\")\n",
    "for i in documents:\n",
    "    data+=i.page_content"
   ]
  },
  {
   "cell_type": "code",
   "execution_count": 30,
   "metadata": {},
   "outputs": [],
   "source": [
    "config = {\"configurable\": {\"thread_id\": \"a8\"}}\n",
    "initial_state = {\n",
    "    \"messages\": [HumanMessage(content=data)], #data-resume contents\n",
    "    \"count\": 0,\n",
    "    \"sender\": \"\",\n",
    "}"
   ]
  },
  {
   "cell_type": "code",
   "execution_count": 31,
   "metadata": {},
   "outputs": [
    {
     "name": "stdout",
     "output_type": "stream",
     "text": [
      "{'messages': ['(+00) 111-2222-3333  \\nyuanhf@example.com  \\nhttp://www.example.com  \\n\\nXIAO YUAN  \\nPH.D.  \\n\\n**Education**  \\nDepartment of Automation, Tsinghua University  \\nBeijing, China  \\nPh.D. in Control Science and Engineering  \\n2022 - 2028 (expected)  \\n• Advisor: Prof. Xiao Yuan  \\n• Research area: Operations Research and Machine Learning  \\n\\nDepartment of Precision Instrument, Tsinghua University  \\nBeijing, China  \\nB.E. in Measurement and Control Technology and Instrument  \\n2018 - 2022  \\n• GPA: 0.00/4.00, Rank: 64/64.  \\n\\n**Publications**  \\n1. Xiao Yuan, Hua Li. The Future Urban Transportation Systems: Innovations and Challenges. Journal of Operations Research and Optimization, 2024.  \\n2. Hua Li, Xiao Yuan, John Doe. Optimizing Logistics and Supply Chain Networks Using Machine Learning Techniques. International Conference on Operations Research and Machine Learning, 2023.  \\n3. John Doe, Xiao Yuan, Hua Li. Artificial Intelligence in Healthcare: Transforming Diagnostics and Treatment. International Conference on HealthTech Innovations, 2023.  \\n\\n**Projects**  \\nAdvanced Optimization Techniques for Smart Grid Management  \\nNational Natural Science Foundation of China (NSFC)  \\n2023.01 - 2024.01  \\n\\nOptimizing Urban Traffic Flow Using AI-Based Predictive Models  \\nSmart Transportation Innovations Grant  \\n2021.12 - 2022.12  \\n\\n**Internships**  \\nABC Tech Ltd. | Shanghai, China  \\n2024.01 - 2024.06  \\n• Develop engaging content for social media platforms.  \\n• Prepare reports and presentations summarizing research findings.  \\n\\nXYZ Tech Inc. | Shanghai, China  \\n2023.07 - 2023.12  \\n• Develop engaging content for social media platforms.  \\n• Prepare reports and presentations summarizing research findings.  \\n\\n**Awards and Honors**  \\n• First Prize, International Data Science Challenge, 2023.11  \\n• Best Innovation Award, Tech Startup Pitch Competition, 2023.05  \\n• Excellence in Research Award, Annual Research Symposium, 2022.12  \\n• Academic Scholarship, Tsinghua University, 2022.09  \\n\\n**Skills**  \\nLanguages: Chinese, English, French.  \\nProgramming: Python, C++, MATLAB.  \\n\\n**Academic Services**  \\nReviewers for: Journal of Operations Research and Optimization, International Conference on Optimization and Machine Learning, ...  '], 'sender': 'reader', 'count': 0}\n",
      "----\n",
      "{'messages': ['```json\\n{\\n  \"personal_information\": {\\n    \"name\": \"Xiao Yuan\",\\n    \"email\": \"yuanhf@example.com\",\\n    \"phone\": \"(+00) 111-2222-3333\",\\n    \"website\": \"http://www.example.com\"\\n  },\\n  \"education\": [\\n    {\\n      \"degree\": \"Ph.D.\",\\n      \"field_of_study\": \"Control Science and Engineering\",\\n      \"institution\": \"Department of Automation, Tsinghua University\",\\n      \"location\": \"Beijing, China\",\\n      \"years\": \"2022 - 2028 (expected)\",\\n      \"advisor\": \"Prof. Xiao Yuan\",\\n      \"research_area\": \"Operations Research and Machine Learning\"\\n    },\\n    {\\n      \"degree\": \"B.E.\",\\n      \"field_of_study\": \"Measurement and Control Technology and Instrument\",\\n      \"institution\": \"Department of Precision Instrument, Tsinghua University\",\\n      \"location\": \"Beijing, China\",\\n      \"years\": \"2018 - 2022\",\\n      \"gpa\": \"0.00/4.00\",\\n      \"rank\": \"64/64\"\\n    }\\n  ],\\n  \"work_experience\": [\\n    {\\n      \"position\": \"Intern\",\\n      \"company\": \"ABC Tech Ltd.\",\\n      \"location\": \"Shanghai, China\",\\n      \"duration\": \"2024.01 - 2024.06\",\\n      \"responsibilities\": [\\n        \"Develop engaging content for social media platforms.\",\\n        \"Prepare reports and presentations summarizing research findings.\"\\n      ]\\n    },\\n    {\\n      \"position\": \"Intern\",\\n      \"company\": \"XYZ Tech Inc.\",\\n      \"location\": \"Shanghai, China\",\\n      \"duration\": \"2023.07 - 2023.12\",\\n      \"responsibilities\": [\\n        \"Develop engaging content for social media platforms.\",\\n        \"Prepare reports and presentations summarizing research findings.\"\\n      ]\\n    }\\n  ],\\n  \"skills\": {\\n    \"languages\": [\"Chinese\", \"English\", \"French\"],\\n    \"programming\": [\"Python\", \"C++\", \"MATLAB\"]\\n  },\\n  \"publications\": [\\n    {\\n      \"title\": \"The Future Urban Transportation Systems: Innovations and Challenges\",\\n      \"authors\": [\"Xiao Yuan\", \"Hua Li\"],\\n      \"journal\": \"Journal of Operations Research and Optimization\",\\n      \"year\": 2024\\n    },\\n    {\\n      \"title\": \"Optimizing Logistics and Supply Chain Networks Using Machine Learning Techniques\",\\n      \"authors\": [\"Hua Li\", \"Xiao Yuan\", \"John Doe\"],\\n      \"conference\": \"International Conference on Operations Research and Machine Learning\",\\n      \"year\": 2023\\n    },\\n    {\\n      \"title\": \"Artificial Intelligence in Healthcare: Transforming Diagnostics and Treatment\",\\n      \"authors\": [\"John Doe\", \"Xiao Yuan\", \"Hua Li\"],\\n      \"conference\": \"International Conference on HealthTech Innovations\",\\n      \"year\": 2023\\n    }\\n  ],\\n  \"projects\": [\\n    {\\n      \"title\": \"Advanced Optimization Techniques for Smart Grid Management\",\\n      \"grant\": \"National Natural Science Foundation of China (NSFC)\",\\n      \"duration\": \"2023.01 - 2024.01\"\\n    },\\n    {\\n      \"title\": \"Optimizing Urban Traffic Flow Using AI-Based Predictive Models\",\\n      \"grant\": \"Smart Transportation Innovations Grant\",\\n      \"duration\": \"2021.12 - 2022.12\"\\n    }\\n  ],\\n  \"awards\": [\\n    {\\n      \"title\": \"First Prize, International Data Science Challenge\",\\n      \"date\": \"2023.11\"\\n    },\\n    {\\n      \"title\": \"Best Innovation Award, Tech Startup Pitch Competition\",\\n      \"date\": \"2023.05\"\\n    },\\n    {\\n      \"title\": \"Excellence in Research Award, Annual Research Symposium\",\\n      \"date\": \"2022.12\"\\n    },\\n    {\\n      \"title\": \"Academic Scholarship, Tsinghua University\",\\n      \"date\": \"2022.09\"\\n    }\\n  ]\\n}\\n```'], 'sender': 'extractor', 'count': 1}\n",
      "----\n",
      "{'messages': ['- The GPA for the B.E. degree should be corrected from \"0.00/4.00\" to \"4.00/4.00\" as a GPA of 0.00 is likely a mistake.\\n- The rank \"64/64\" may need clarification as it indicates the lowest rank; consider revising how this information is presented or if it should be included.'], 'sender': 'validator', 'count': 1}\n",
      "----\n",
      "{'messages': ['```json\\n{\\n  \"personal_information\": {\\n    \"name\": \"Xiao Yuan\",\\n    \"email\": \"yuanhf@example.com\",\\n    \"phone\": \"(+00) 111-2222-3333\",\\n    \"website\": \"http://www.example.com\"\\n  },\\n  \"education\": [\\n    {\\n      \"degree\": \"Ph.D.\",\\n      \"field_of_study\": \"Control Science and Engineering\",\\n      \"institution\": \"Department of Automation, Tsinghua University\",\\n      \"location\": \"Beijing, China\",\\n      \"years\": \"2022 - 2028 (expected)\",\\n      \"advisor\": \"Prof. Xiao Yuan\",\\n      \"research_area\": \"Operations Research and Machine Learning\"\\n    },\\n    {\\n      \"degree\": \"B.E.\",\\n      \"field_of_study\": \"Measurement and Control Technology and Instrument\",\\n      \"institution\": \"Department of Precision Instrument, Tsinghua University\",\\n      \"location\": \"Beijing, China\",\\n      \"years\": \"2018 - 2022\",\\n      \"gpa\": \"4.00/4.00\",\\n      \"rank\": \"64/64\"\\n    }\\n  ],\\n  \"work_experience\": [\\n    {\\n      \"position\": \"Intern\",\\n      \"company\": \"ABC Tech Ltd.\",\\n      \"location\": \"Shanghai, China\",\\n      \"duration\": \"2024.01 - 2024.06\",\\n      \"responsibilities\": [\\n        \"Develop engaging content for social media platforms.\",\\n        \"Prepare reports and presentations summarizing research findings.\"\\n      ]\\n    },\\n    {\\n      \"position\": \"Intern\",\\n      \"company\": \"XYZ Tech Inc.\",\\n      \"location\": \"Shanghai, China\",\\n      \"duration\": \"2023.07 - 2023.12\",\\n      \"responsibilities\": [\\n        \"Develop engaging content for social media platforms.\",\\n        \"Prepare reports and presentations summarizing research findings.\"\\n      ]\\n    }\\n  ],\\n  \"skills\": {\\n    \"languages\": [\"Chinese\", \"English\", \"French\"],\\n    \"programming\": [\"Python\", \"C++\", \"MATLAB\"]\\n  },\\n  \"publications\": [\\n    {\\n      \"title\": \"The Future Urban Transportation Systems: Innovations and Challenges\",\\n      \"authors\": [\"Xiao Yuan\", \"Hua Li\"],\\n      \"journal\": \"Journal of Operations Research and Optimization\",\\n      \"year\": 2024\\n    },\\n    {\\n      \"title\": \"Optimizing Logistics and Supply Chain Networks Using Machine Learning Techniques\",\\n      \"authors\": [\"Hua Li\", \"Xiao Yuan\", \"John Doe\"],\\n      \"conference\": \"International Conference on Operations Research and Machine Learning\",\\n      \"year\": 2023\\n    },\\n    {\\n      \"title\": \"Artificial Intelligence in Healthcare: Transforming Diagnostics and Treatment\",\\n      \"authors\": [\"John Doe\", \"Xiao Yuan\", \"Hua Li\"],\\n      \"conference\": \"International Conference on HealthTech Innovations\",\\n      \"year\": 2023\\n    }\\n  ],\\n  \"projects\": [\\n    {\\n      \"title\": \"Advanced Optimization Techniques for Smart Grid Management\",\\n      \"grant\": \"National Natural Science Foundation of China (NSFC)\",\\n      \"duration\": \"2023.01 - 2024.01\"\\n    },\\n    {\\n      \"title\": \"Optimizing Urban Traffic Flow Using AI-Based Predictive Models\",\\n      \"grant\": \"Smart Transportation Innovations Grant\",\\n      \"duration\": \"2021.12 - 2022.12\"\\n    }\\n  ],\\n  \"awards\": [\\n    {\\n      \"title\": \"First Prize, International Data Science Challenge\",\\n      \"date\": \"2023.11\"\\n    },\\n    {\\n      \"title\": \"Best Innovation Award, Tech Startup Pitch Competition\",\\n      \"date\": \"2023.05\"\\n    },\\n    {\\n      \"title\": \"Excellence in Research Award, Annual Research Symposium\",\\n      \"date\": \"2022.12\"\\n    },\\n    {\\n      \"title\": \"Academic Scholarship, Tsinghua University\",\\n      \"date\": \"2022.09\"\\n    }\\n  ]\\n}\\n```'], 'sender': 'extractor', 'count': 2}\n",
      "----\n",
      "{'messages': ['- The GPA for the B.E. degree should be corrected from \"0.00/4.00\" to \"4.00/4.00\" as a GPA of 0.00 is likely a mistake.\\n- The rank \"64/64\" may need clarification as it indicates the lowest rank; consider revising how this information is presented or if it should be included.'], 'sender': 'validator', 'count': 2}\n",
      "----\n",
      "{'messages': ['```json\\n{\\n  \"personal_information\": {\\n    \"name\": \"Xiao Yuan\",\\n    \"email\": \"yuanhf@example.com\",\\n    \"phone\": \"(+00) 111-2222-3333\",\\n    \"website\": \"http://www.example.com\"\\n  },\\n  \"education\": [\\n    {\\n      \"degree\": \"Ph.D.\",\\n      \"field_of_study\": \"Control Science and Engineering\",\\n      \"institution\": \"Department of Automation, Tsinghua University\",\\n      \"location\": \"Beijing, China\",\\n      \"years\": \"2022 - 2028 (expected)\",\\n      \"advisor\": \"Prof. Xiao Yuan\",\\n      \"research_area\": \"Operations Research and Machine Learning\"\\n    },\\n    {\\n      \"degree\": \"B.E.\",\\n      \"field_of_study\": \"Measurement and Control Technology and Instrument\",\\n      \"institution\": \"Department of Precision Instrument, Tsinghua University\",\\n      \"location\": \"Beijing, China\",\\n      \"years\": \"2018 - 2022\",\\n      \"gpa\": \"4.00/4.00\",\\n      \"rank\": \"64/64\"\\n    }\\n  ],\\n  \"work_experience\": [\\n    {\\n      \"position\": \"Intern\",\\n      \"company\": \"ABC Tech Ltd.\",\\n      \"location\": \"Shanghai, China\",\\n      \"duration\": \"2024.01 - 2024.06\",\\n      \"responsibilities\": [\\n        \"Develop engaging content for social media platforms.\",\\n        \"Prepare reports and presentations summarizing research findings.\"\\n      ]\\n    },\\n    {\\n      \"position\": \"Intern\",\\n      \"company\": \"XYZ Tech Inc.\",\\n      \"location\": \"Shanghai, China\",\\n      \"duration\": \"2023.07 - 2023.12\",\\n      \"responsibilities\": [\\n        \"Develop engaging content for social media platforms.\",\\n        \"Prepare reports and presentations summarizing research findings.\"\\n      ]\\n    }\\n  ],\\n  \"skills\": {\\n    \"languages\": [\"Chinese\", \"English\", \"French\"],\\n    \"programming\": [\"Python\", \"C++\", \"MATLAB\"]\\n  },\\n  \"publications\": [\\n    {\\n      \"title\": \"The Future Urban Transportation Systems: Innovations and Challenges\",\\n      \"authors\": [\"Xiao Yuan\", \"Hua Li\"],\\n      \"journal\": \"Journal of Operations Research and Optimization\",\\n      \"year\": 2024\\n    },\\n    {\\n      \"title\": \"Optimizing Logistics and Supply Chain Networks Using Machine Learning Techniques\",\\n      \"authors\": [\"Hua Li\", \"Xiao Yuan\", \"John Doe\"],\\n      \"conference\": \"International Conference on Operations Research and Machine Learning\",\\n      \"year\": 2023\\n    },\\n    {\\n      \"title\": \"Artificial Intelligence in Healthcare: Transforming Diagnostics and Treatment\",\\n      \"authors\": [\"John Doe\", \"Xiao Yuan\", \"Hua Li\"],\\n      \"conference\": \"International Conference on HealthTech Innovations\",\\n      \"year\": 2023\\n    }\\n  ],\\n  \"projects\": [\\n    {\\n      \"title\": \"Advanced Optimization Techniques for Smart Grid Management\",\\n      \"grant\": \"National Natural Science Foundation of China (NSFC)\",\\n      \"duration\": \"2023.01 - 2024.01\"\\n    },\\n    {\\n      \"title\": \"Optimizing Urban Traffic Flow Using AI-Based Predictive Models\",\\n      \"grant\": \"Smart Transportation Innovations Grant\",\\n      \"duration\": \"2021.12 - 2022.12\"\\n    }\\n  ],\\n  \"awards\": [\\n    {\\n      \"title\": \"First Prize, International Data Science Challenge\",\\n      \"date\": \"2023.11\"\\n    },\\n    {\\n      \"title\": \"Best Innovation Award, Tech Startup Pitch Competition\",\\n      \"date\": \"2023.05\"\\n    },\\n    {\\n      \"title\": \"Excellence in Research Award, Annual Research Symposium\",\\n      \"date\": \"2022.12\"\\n    },\\n    {\\n      \"title\": \"Academic Scholarship, Tsinghua University\",\\n      \"date\": \"2022.09\"\\n    }\\n  ]\\n}\\n```'], 'sender': 'extractor', 'count': 3}\n",
      "----\n"
     ]
    }
   ],
   "source": [
    "#streaming the outputs\n",
    "for s in app.stream(initial_state,config):\n",
    "    print(list(s.values())[0])\n",
    "    print(\"----\")"
   ]
  },
  {
   "cell_type": "code",
   "execution_count": null,
   "metadata": {},
   "outputs": [],
   "source": []
  }
 ],
 "metadata": {
  "kernelspec": {
   "display_name": "pibit",
   "language": "python",
   "name": "python3"
  },
  "language_info": {
   "codemirror_mode": {
    "name": "ipython",
    "version": 3
   },
   "file_extension": ".py",
   "mimetype": "text/x-python",
   "name": "python",
   "nbconvert_exporter": "python",
   "pygments_lexer": "ipython3",
   "version": "3.11.10"
  }
 },
 "nbformat": 4,
 "nbformat_minor": 2
}
